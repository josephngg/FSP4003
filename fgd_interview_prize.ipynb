{
 "cells": [
  {
   "cell_type": "code",
   "execution_count": 44,
   "metadata": {},
   "outputs": [
    {
     "name": "stdout",
     "output_type": "stream",
     "text": [
      "The latest CSV file in the directory is: C:/Users/josep/Desktop/NUS Biz/Y4S2/FSP/Survey/Dataset\\LKF Medical (Axe Brand) Survey Form_February 28, 2024_21.52.csv\n"
     ]
    }
   ],
   "source": [
    "import pygsheets\n",
    "import pandas as pd\n",
    "import os\n",
    "import glob\n",
    "\n",
    "# Specify the directory path\n",
    "directory_path = \"C:/Users/josep/Desktop/NUS Biz/Y4S2/FSP/Survey/Dataset\"\n",
    "\n",
    "# Use glob to get a list of CSV files in the directory\n",
    "csv_files = glob.glob(os.path.join(directory_path, '*.csv'))\n",
    "\n",
    "# Check if there are any CSV files\n",
    "if csv_files:\n",
    "    # Get the latest CSV file based on the modification time\n",
    "    latest_csv_file = max(csv_files, key=os.path.getmtime)\n",
    "\n",
    "    print(f\"The latest CSV file in the directory is: {latest_csv_file}\")\n",
    "else:\n",
    "    print(\"No CSV files found in the directory.\")\n",
    "\n",
    "# Data extraction\n",
    "newest_survey_csv = latest_csv_file\n",
    "raw_df = pd.read_csv(newest_survey_csv)\n",
    "\n",
    "survey_df = raw_df.filter(regex='^Q\\d')\n",
    "survey_df = survey_df.drop(index = [0,1,2])\n",
    "survey_df.reset_index(drop=True, inplace=True)\n",
    "\n",
    "fgd = [{'Q25':'Group 1'},{'Q40':'Group 3'},{'Q62':'Group 6'}]\n",
    "interview = [{'Q48':'Group 4'},{'Q55':'Group 5'}]\n",
    "prize = [{'Q73':'Prize Participants'}]\n",
    "\n",
    "temp = [fgd, interview, prize]\n",
    "\n",
    "#authorization\n",
    "gc = pygsheets.authorize(service_file=\"C:/Users/josep/Desktop/NUS Biz/Y4S2/FSP/Survey/fsp4002-f35733441e3c.json\")\n",
    "\n",
    "\n",
    "#open the google spreadsheet (where 'PY to Gsheet Test' is the name of my sheet)\n",
    "sh = gc.open('FGDs/Interviews/Prize')\n",
    "\n",
    "#select the first sheet \n",
    "for category in temp:\n",
    "    wks = sh[temp.index(category)]\n",
    "    # wks.clear()\n",
    "    for i in category:\n",
    "        for k,v in i.items():\n",
    "            wks.set_dataframe(survey_df[[k]].dropna().rename(columns={k:v}), (1, category.index(i) + 1))"
   ]
  }
 ],
 "metadata": {
  "kernelspec": {
   "display_name": "amex",
   "language": "python",
   "name": "python3"
  },
  "language_info": {
   "codemirror_mode": {
    "name": "ipython",
    "version": 3
   },
   "file_extension": ".py",
   "mimetype": "text/x-python",
   "name": "python",
   "nbconvert_exporter": "python",
   "pygments_lexer": "ipython3",
   "version": "3.8.18"
  }
 },
 "nbformat": 4,
 "nbformat_minor": 2
}
